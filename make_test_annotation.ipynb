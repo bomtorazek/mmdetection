{
 "cells": [
  {
   "cell_type": "code",
   "execution_count": 109,
   "metadata": {},
   "outputs": [],
   "source": [
    "from os import listdir\n",
    "\n",
    "# make fake test_label.csv\n",
    "test_list = sorted(listdir(\"../test_image\")) \n",
    "\n",
    "\n",
    "class_list = [0]* len(test_list)\n",
    "df = pd.DataFrame({'File': test_list,\n",
    "                   'Class': class_list,\n",
    "                   'X1': class_list,\n",
    "                  'Y1': class_list,\n",
    "                  'Y1': class_list,\n",
    "                  'X2': class_list,\n",
    "                  'Y2': class_list,\n",
    "                  'X3': class_list,\n",
    "                  'Y3': class_list,\n",
    "                  'X4': class_list,\n",
    "                  'Y4': class_list,})\n",
    "df.to_csv('../test_label.csv', index=False)  "
   ]
  },
  {
   "cell_type": "code",
   "execution_count": 11,
   "metadata": {},
   "outputs": [
    {
     "name": "stdout",
     "output_type": "stream",
     "text": [
      "0/100\n",
      "50/100\n"
     ]
    }
   ],
   "source": [
    "import pandas as pd\n",
    "\n",
    "#make fake test_label.json from test_label.csv\n",
    "BINARY = False\n",
    "\n",
    "# test\n",
    "def convert_143_to_coco(ann_file, out_file, image_prefix):\n",
    "    \n",
    "    with open(ann_file, 'r') as l:\n",
    "        data_infos = pd.read_csv(l)\n",
    "\n",
    "    \n",
    "    image_name = (data_infos['File'].unique())\n",
    "    image_num = (len(image_name))\n",
    "        \n",
    "    annotations = []\n",
    "    images = []\n",
    "    obj_count = 0\n",
    "    \n",
    "    for idx, filename in enumerate((image_name)):\n",
    "        if idx %50 ==0:\n",
    "            print(f\"{idx}/{image_num}\")\n",
    "        \n",
    "        img_path = osp.join(image_prefix, filename)\n",
    "        height, width = mmcv.imread(img_path).shape[:2]\n",
    "\n",
    "        images.append(dict(\n",
    "            id=idx,\n",
    "            file_name=filename,\n",
    "            height=height,\n",
    "            width=width))\n",
    "\n",
    "        data_per_filename = data_infos[data_infos.File == filename]\n",
    "        for _,obj in data_per_filename.iterrows():  #index, obj\n",
    "            px = [obj['X1'],obj['X2'],obj['X3'],obj['X4']]\n",
    "            py = [obj['Y1'],obj['Y2'],obj['Y3'],obj['Y4']]\n",
    "            poly = [(x + 0.5, y + 0.5) for x, y in zip(px, py)] #0.5를 왜 더해주지?\n",
    "            poly = [p for x in poly for p in x]\n",
    "            x_min, y_min, x_max, y_max = (\n",
    "                min(px), min(py), max(px), max(py))\n",
    "\n",
    "            # image_id는 이미지\n",
    "            # id는 말 그대로 object에 할당된 id\n",
    "            # category_id >> label\n",
    "            data_anno = dict(\n",
    "                image_id=idx,\n",
    "                id=obj_count,\n",
    "                category_id=0 if BINARY else 1,\n",
    "                bbox=[x_min, y_min, x_max - x_min, y_max - y_min],\n",
    "                area=(x_max - x_min) * (y_max - y_min),\n",
    "                segmentation=[poly],\n",
    "                iscrowd=0) # category_id >> obj['Class']\n",
    "\n",
    "            annotations.append(data_anno)\n",
    "            obj_count += 1\n",
    "\n",
    "         \n",
    "           \n",
    "\n",
    "    coco_format_json = dict(\n",
    "        images=images,\n",
    "        annotations=annotations,\n",
    "        categories=[{'id':0, 'name': '0'}] if BINARY else [{'id':1, 'name': '1'},{'id':2, 'name': '2'},{'id':3, 'name': '3'},{'id':4, 'name': '4'},{'id':5, 'name': '5'},{'id':6, 'name': '6'},{'id':7, 'name': '7'}]) #  [{'id':1, 'name': '1'}, ......]\n",
    "    if BINARY:\n",
    "        mmcv.dump(coco_format_json, out_file+'.json')\n",
    "    else:\n",
    "        mmcv.dump(coco_format_json, out_file+'_multi'+'.json')\n",
    "\n",
    "    \n",
    "convert_143_to_coco('../test_label.csv', '../test_label', '../test_image')"
   ]
  }
 ],
 "metadata": {
  "kernelspec": {
   "display_name": "Python 3",
   "language": "python",
   "name": "python3"
  },
  "language_info": {
   "codemirror_mode": {
    "name": "ipython",
    "version": 3
   },
   "file_extension": ".py",
   "mimetype": "text/x-python",
   "name": "python",
   "nbconvert_exporter": "python",
   "pygments_lexer": "ipython3",
   "version": "3.8.6"
  }
 },
 "nbformat": 4,
 "nbformat_minor": 4
}
